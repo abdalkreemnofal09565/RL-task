{
  "nbformat": 4,
  "nbformat_minor": 0,
  "metadata": {
    "colab": {
      "provenance": []
    },
    "kernelspec": {
      "name": "python3",
      "display_name": "Python 3"
    },
    "language_info": {
      "name": "python"
    }
  },
  "cells": [
    {
      "cell_type": "code",
      "execution_count": 1,
      "metadata": {
        "id": "FJ2YXv3wvFqo"
      },
      "outputs": [],
      "source": [
        "from collections import deque\n",
        "import random\n",
        "import os\n",
        "import numpy as np\n",
        "import tensorflow as tf\n",
        "import pandas as pd\n",
        "from typing import Any\n",
        "from matplotlib import pyplot as plt\n",
        "from dataclasses import dataclass, field\n",
        "from google.colab import drive"
      ]
    },
    {
      "cell_type": "code",
      "source": [
        "class Colors:\n",
        "    RESET = \"\\033[0m\"\n",
        "    BLACK = \"\\u001B[40m\"\n",
        "    RED = \"\\u001B[41m\"\n",
        "    GREEN = \"\\u001B[42m\"\n",
        "    YELLOW = \"\\u001B[43m\"\n",
        "    BLUE = \"\\u001B[44m\"\n",
        "    PURPLE = \"\\u001B[45m\"\n",
        "    CYAN = \"\\u001B[46m\"\n",
        "    WHITE = \"\\u001B[47m\""
      ],
      "metadata": {
        "id": "VA6gAO0VMBtr"
      },
      "execution_count": 2,
      "outputs": []
    },
    {
      "cell_type": "code",
      "source": [
        "@dataclass\n",
        "class Environment:\n",
        "    x: float\n",
        "    y: float\n",
        "    n: float\n",
        "    m: float\n",
        "    dizzy_state: int = field(init=False, default=0)\n",
        "    mistake_probability: float = 0.9\n",
        "    dizzy_state_duration: int = 25\n",
        "    grid: np.ndarray = field(init=False)\n",
        "    \"\"\"\n",
        "        cell types in the grid\n",
        "        5: player\n",
        "        0: empty cell\n",
        "        1: obstacle\n",
        "        9: target\n",
        "    \"\"\"\n",
        "\n",
        "    def __post_init__(self):\n",
        "        self.init_grid()\n",
        "\n",
        "    def init_grid(self):\n",
        "        self.grid = np.array([\n",
        "            [1, 1, 1, 1, 1, 1, 1, 1, 1, 1, 1, 1, 1, 1, 1, 1, 1],\n",
        "            [1, 0, 0, 0, 0, 0, 0, 0, 0, 0, 5, 1, 1, 1, 0, 0, 1],\n",
        "            [1, 0, 1, 1, 1, 1, 1, 1, 1, 1, 0, 1, 0, 1, 0, 1, 1],\n",
        "            [1, 0, 1, 1, 0, 1, 0, 0, 1, 1, 0, 1, 0, 1, 0, 0, 1],\n",
        "            [1, 0, 1, 1, 0, 1, 0, 1, 1, 1, 0, 1, 0, 0, 0, 0, 1],\n",
        "            [1, 0, 0, 1, 0, 0, 0, 1, 1, 1, 0, 0, 0, 0, 0, 0, 1],\n",
        "            [1, 0, 1, 1, 0, 1, 0, 0, 0, 0, 0, 1, 0, 0, 0, 0, 1],\n",
        "            [1, 0, 0, 0, 0, 1, 0, 0, 0, 0, 0, 1, 1, 1, 1, 0, 1],\n",
        "            [1, 0, 1, 1, 0, 1, 0, 0, 0, 0, 0, 0, 0, 0, 0, 0, 1],\n",
        "            [1, 0, 0, 0, 0, 0, 0, 0, 0, 0, 0, 1, 1, 0, 1, 0, 1],\n",
        "            [1, 0, 1, 1, 1, 0, 1, 1, 0, 0, 0, 0, 0, 0, 0, 0, 1],\n",
        "            [1, 0, 1, 1, 1, 0, 1, 1, 0, 1, 0, 0, 0, 0, 0, 0, 1],\n",
        "            [1, 0, 1, 0, 0, 0, 0, 0, 0, 1, 1, 1, 0, 1, 0, 0, 1],\n",
        "            [1, 0, 1, 0, 1, 1, 0, 0, 1, 1, 0, 1, 0, 1, 1, 0, 1],\n",
        "            [1, 0, 0, 0, 0, 0, 0, 0, 0, 1, 0, 0, 0, 1, 0, 0, 1],\n",
        "            [1, 0, 1, 1, 1, 1, 1, 1, 0, 1, 0, 0, 0, 0, 0, 0, 1],\n",
        "            [1, 9, 0, 0, 0, 0, 0, 0, 0, 1, 0, 0, 0, 0, 0, 0, 1],\n",
        "            [1, 1, 1, 1, 1, 1, 1, 1, 1, 1, 1, 1, 1, 1, 1, 1, 1],\n",
        "            ])\n",
        "\n",
        "    def reset(self):\n",
        "        self.x = 10\n",
        "        self.y = 1\n",
        "        self.init_grid()\n",
        "        return [self.y, self.x]\n",
        "\n",
        "    def get_available_actions(self):\n",
        "        \"\"\"\n",
        "            the actions in the environment are:\n",
        "              0: to move right\n",
        "              1: to move left\n",
        "              2: to move up\n",
        "              3: to move down\n",
        "        \"\"\"\n",
        "        return 0, 1, 2, 3\n",
        "\n",
        "    def calculate_reward(self, y, x): #\n",
        "        if self.grid[y][x] == 9:\n",
        "            return 50\n",
        "        if self.grid[y][x] == 1:\n",
        "            return -10\n",
        "        return -1\n",
        "\n",
        "    # def calculate_reward(self, y, x): #\n",
        "    #     if self.dizzy_state == 0 and self.grid[y][x] == 9:\n",
        "    #         return 50\n",
        "    #     if self.dizzy_state != 0 and self.grid[y][x] == 9:\n",
        "    #         return 50\n",
        "\n",
        "    #     if self.dizzy_state == 0 and self.grid[y][x] == 1:\n",
        "    #         return -50\n",
        "    #     if self.dizzy_state != 0 and self.grid[y][x] == 1:\n",
        "    #         return -20\n",
        "\n",
        "    #     if self.dizzy_state == 0 and self.grid[y][x] == 0:\n",
        "    #         return -1\n",
        "\n",
        "        # if self.dizzy_state != 0 and self.grid[y][x] == 0:\n",
        "        #     return -10\n",
        "\n",
        "        return 0\n",
        "\n",
        "    def add_noise_on_action(self, action):\n",
        "        if self.dizzy_state == 0:\n",
        "            return action\n",
        "        self.dizzy_state -= 1\n",
        "        random_num = random.uniform(0, 1)\n",
        "        if random_num < self.mistake_probability:\n",
        "            actions = self.get_available_actions()\n",
        "            return random.choice(actions)\n",
        "        else:\n",
        "            return action\n",
        "\n",
        "    def is_terminal_state(self, y, x):\n",
        "        return self.grid[y][x] == 9\n",
        "\n",
        "    def move(self, y, x):\n",
        "        done = self.is_terminal_state(y, x)\n",
        "        next_state = None\n",
        "        reward = self.calculate_reward(y, x)\n",
        "        if self.dizzy_state == 0 and self.grid[y][x] == 1:\n",
        "            self.dizzy_state = self.dizzy_state_duration\n",
        "        if self.grid[y][x] == 9:\n",
        "            next_state = [y, x]\n",
        "        if self.grid[y][x] == 1:\n",
        "            next_state = [self.y, self.x]\n",
        "        if self.grid[y][x] == 0:\n",
        "            next_state = [y, x]\n",
        "        self.grid[self.y][self.x] = 0 #\n",
        "        self.y = next_state[0]\n",
        "        self.x = next_state[1]\n",
        "        self.grid[self.y][self.x] = 5 #\n",
        "        return next_state, reward, done\n",
        "\n",
        "    def step(self, action):\n",
        "        action = self.add_noise_on_action(action)\n",
        "        if action == 0:\n",
        "            return self.move(self.y, self.x + 1)\n",
        "        if action == 1:\n",
        "            return self.move(self.y, self.x - 1)\n",
        "        if action == 2:\n",
        "            return self.move(self.y + 1, self.x)\n",
        "        if action == 3:\n",
        "            return self.move(self.y - 1, self.x)\n",
        "\n",
        "    def print_path(self, path):\n",
        "        grid = np.copy(env.grid)\n",
        "\n",
        "        for step in path[1:]:\n",
        "            grid[step[0]][step[1]] = 8\n",
        "\n",
        "        for i in range(len(grid)):\n",
        "            for j in range(len(grid[0])):\n",
        "                if grid[i][j] == 9:\n",
        "                    print(Colors.RED, end=\"\")\n",
        "                elif grid[i][j] == 1:\n",
        "                    print(Colors.GREEN, end=\"\")\n",
        "                elif grid[i][j] == 0:\n",
        "                    print(Colors.RESET, end=\"\")\n",
        "                elif grid[i][j] == 5:\n",
        "                    print(Colors.PURPLE, end=\"\")\n",
        "                elif grid[i][j] == 8:\n",
        "                    print(Colors.YELLOW, end=\"\")\n",
        "                print(\"  \", end=\"\")\n",
        "            print()"
      ],
      "metadata": {
        "id": "ljljXyPxv4N0"
      },
      "execution_count": 3,
      "outputs": []
    },
    {
      "cell_type": "code",
      "source": [
        "# Q-learning data\n",
        "env = Environment(1, 1, 17, 18)\n",
        "n = 17\n",
        "m = 18\n",
        "# ==================================\n",
        "action_size: int = len(env.get_available_actions())\n",
        "state_size: int = n * m\n",
        "max_steps: int = 1700  # 300\n",
        "num_of_episodes: int = 3000  # 1600\n",
        "# ==================================\n",
        "epsilon: float = 0.9 # 1.0\n",
        "epsilon_decay: float = 0.995\n",
        "epsilon_min: float = 0.0001 # 0.01\n",
        "epsilon_max: float = 1.0\n",
        "gamma: float = 0.95\n",
        "alpha: float = 0.01\n",
        "agent_rewards = []\n",
        "# ==================================\n",
        "memory = []\n",
        "memory_max_size: int = 2000\n",
        "batch_size: int = 32\n",
        "tau: float = 0.125\n",
        "# ==================================\n",
        "q_table = np.zeros((n, m, action_size,2))"
      ],
      "metadata": {
        "id": "m17UTjL6v6UB"
      },
      "execution_count": 4,
      "outputs": []
    },
    {
      "cell_type": "code",
      "source": [
        "# # Deep Q-learning data\n",
        "# action_size: int = 4\n",
        "# state_size: int = n * m\n",
        "# max_steps: int = 170\n",
        "# num_of_episodes: int = 300\n",
        "# # ==================================\n",
        "# epsilon: float = 1.0\n",
        "# epsilon_decay: float = 0.995\n",
        "# epsilon_min: float = 0.01\n",
        "# epsilon_max: float = 1.0\n",
        "# gamma: float = 0.95\n",
        "# alpha: float = 0.001\n",
        "# agent_rewards = []\n",
        "# # ==================================\n",
        "# buffer_size: int = 2000\n",
        "# batch_size: int = 32\n",
        "# tau: float = 0.125\n",
        "# memory = deque(maxlen=buffer_size)\n",
        "# # ==================================\n",
        "# state_dim = 2\n",
        "# target_update_freq = 20\n",
        "# checkpoint_freq = 25\n",
        "# model = tf.keras.Sequential()\n",
        "# num_units = 24\n",
        "# model.add(tf.keras.layers.Dense(num_units, input_dim=state_dim, activation=\"relu\"))\n",
        "# model.add(tf.keras.layers.Dense(num_units, activation=\"relu\"))\n",
        "# model.add(tf.keras.layers.Dense(action_size))\n",
        "# model.compile(loss=\"mse\", optimizer=tf.keras.optimizers.Adam())\n",
        "# target_model = tf.keras.models.clone_model(model)"
      ],
      "metadata": {
        "id": "ow6ZrcbGZBug"
      },
      "execution_count": 5,
      "outputs": []
    },
    {
      "cell_type": "code",
      "source": [
        "def get_available_actions():\n",
        "    return env.get_available_actions()\n",
        "\n",
        "def get_next_state(move):\n",
        "    new_state, reward, done = env.step(action)\n",
        "    return new_state, reward, done\n",
        "\n",
        "def reset_environment():\n",
        "    return env.reset()"
      ],
      "metadata": {
        "id": "jPIjU3TWv9Zx"
      },
      "execution_count": 6,
      "outputs": []
    },
    {
      "cell_type": "code",
      "source": [
        "# Q-learning\n",
        "for episode in range(num_of_episodes):\n",
        "    state = reset_environment()\n",
        "    episode_reward = 0\n",
        "    for step in range(max_steps):\n",
        "        random_num = random.uniform(0, 1)\n",
        "        y = state[0]\n",
        "        x = state[1]\n",
        "        if random_num < epsilon:\n",
        "            actions = get_available_actions()\n",
        "            action = random.choice(actions)\n",
        "        else:\n",
        "            if env.dizzy_state==0:\n",
        "              q_values = q_table[y, x, :,0]\n",
        "            else :\n",
        "              q_values = q_table[y, x, :,1]\n",
        "            action = np.argmax(q_values)\n",
        "        next_state, reward, done = get_next_state(action)\n",
        "        next_y = next_state[0]\n",
        "        next_x = next_state[1]\n",
        "        if env.dizzy_state==0:\n",
        "          q_table[y, x, action,0] = (1 - alpha) * q_table[y, x, action,0] + alpha * (reward + np.max(q_table[next_y, next_x, :,0])) #\n",
        "        else:\n",
        "          q_table[y, x, action,1] = (1 - alpha) * q_table[y, x, action,1] + alpha * (reward + np.max(q_table[next_y, next_x, :,1])) #\n",
        "\n",
        "        episode_reward += reward\n",
        "        if done:\n",
        "            break\n",
        "        state = next_state\n",
        "    epsilon = max(epsilon_min, epsilon * epsilon_decay)\n",
        "    # print(epsilon)\n",
        "    agent_rewards.append(episode_reward)"
      ],
      "metadata": {
        "id": "K4riO_Y3v_Ns"
      },
      "execution_count": 7,
      "outputs": []
    },
    {
      "cell_type": "code",
      "source": [
        "# # Deep Q-learning\n",
        "# for episode in range(num_of_episodes):\n",
        "#     tf.summary.scalar(\"epsilon\", epsilon, step=episode)\n",
        "#     episode_return = 0\n",
        "#     state = reset_environment()\n",
        "#     done = False\n",
        "#     for step in range(max_steps):\n",
        "#         print(\"\\r> DQN: Episode {}/{}, Step {}, epsilon {}, state{}, Return {}\".format(\n",
        "#             episode + 1, num_of_episodes, step, epsilon, state, episode_return), end=\"\")\n",
        "\n",
        "#         if np.random.rand() < epsilon:\n",
        "#             actions = get_available_actions()\n",
        "#             action = random.choice(actions)\n",
        "#         else:\n",
        "#             action = np.argmax(model.predict(np.array([state]), verbose=0)[0])\n",
        "\n",
        "#         state_new, reward, done = env.step(action)\n",
        "#         episode_return += reward\n",
        "#         memory.append((state,action,reward,state_new,done))\n",
        "\n",
        "#         if len(memory) > batch_size:\n",
        "#             experience_sample = random.sample(memory, batch_size)\n",
        "#             x = np.array([e[0] for e in experience_sample])\n",
        "\n",
        "#             y = model.predict(x, verbose=0)\n",
        "#             x2 = np.array([e[3] for e in experience_sample])\n",
        "#             Q2 = gamma*np.max(target_model.predict(x2, verbose=0), axis=1)\n",
        "#             for i,(s,a,r,s2,d) in enumerate(experience_sample):\n",
        "#                 y[i][a] = r\n",
        "#                 if not d:\n",
        "#                     y[i][a] += Q2[i]\n",
        "\n",
        "#             model.fit(x, y, batch_size=batch_size, epochs=1, verbose=0)\n",
        "\n",
        "#             for layer in model.layers:\n",
        "#                 for weight in layer.weights:\n",
        "#                     weight_name = weight.name.replace(':', '_')\n",
        "#                     tf.summary.histogram(weight_name, weight, step=steps)\n",
        "\n",
        "#         if step % target_update_freq == 0:\n",
        "#             target_model.set_weights(model.get_weights())\n",
        "\n",
        "#         state = state_new\n",
        "#         if done:\n",
        "#             break\n",
        "\n",
        "#     epsilon = max(epsilon_min, epsilon * epsilon_decay)\n",
        "\n",
        "#     tf.summary.scalar(\"return\", episode_return, step=episode)\n",
        "#     tf.summary.flush()\n",
        "#     agent_rewards.append(episode_return)\n",
        "# print()"
      ],
      "metadata": {
        "id": "vziUR2RPa0Wv"
      },
      "execution_count": 8,
      "outputs": []
    },
    {
      "cell_type": "code",
      "source": [
        "# save the Q-learning solution path\n",
        "state = reset_environment()\n",
        "episode_reward = 0\n",
        "path = [state]\n",
        "steps = 0\n",
        "hits = 0\n",
        "episode_return = 0\n",
        "for step in range(max_steps):\n",
        "    y = state[0]\n",
        "    x = state[1]\n",
        "    if env.dizzy_state==0:\n",
        "      q_values = q_table[y, x, :,0]\n",
        "    else:\n",
        "      q_values = q_table[y,x,:,1]\n",
        "    action = np.argmax(q_values)\n",
        "    next_state, reward, done = get_next_state(action)\n",
        "    if reward == -10:\n",
        "      hits += 1\n",
        "    path.append(next_state)\n",
        "    episode_reward += reward\n",
        "    steps += 1\n",
        "    if done:\n",
        "        break\n",
        "    state = next_state\n",
        "print(episode_return)\n",
        "print(steps)\n",
        "print(hits)"
      ],
      "metadata": {
        "colab": {
          "base_uri": "https://localhost:8080/"
        },
        "id": "PnwTtctvwA1V",
        "outputId": "8dcdd242-70b2-4f8a-9ee5-fe7f3ce9760a"
      },
      "execution_count": 9,
      "outputs": [
        {
          "output_type": "stream",
          "name": "stdout",
          "text": [
            "0\n",
            "402\n",
            "184\n"
          ]
        }
      ]
    },
    {
      "cell_type": "code",
      "source": [
        "# # save the Deep Q-learning solution path\n",
        "# state = reset_environment()\n",
        "# episode_reward = 0\n",
        "# path = [state]\n",
        "# steps = 0\n",
        "# hits = 0\n",
        "# episode_return = 0\n",
        "# for step in range(max_steps):\n",
        "#     y = state[0]\n",
        "#     x = state[1]\n",
        "#     q_values = q_table[y, x, :]\n",
        "#     action = np.argmax(model.predict(np.array([state]))[0])\n",
        "#     next_state, reward, done = get_next_state(action)\n",
        "#     if reward == -10:\n",
        "#       hits += 1\n",
        "#     path.append(next_state)\n",
        "#     episode_reward += reward\n",
        "#     steps += 1\n",
        "#     if done:\n",
        "#         break\n",
        "#     state = next_state\n",
        "# print(episode_return)\n",
        "# print(steps)\n",
        "# print(hits)"
      ],
      "metadata": {
        "id": "U3uXktFFY0ag"
      },
      "execution_count": 10,
      "outputs": []
    },
    {
      "cell_type": "code",
      "source": [
        "env.print_path(path[:-1])"
      ],
      "metadata": {
        "colab": {
          "base_uri": "https://localhost:8080/"
        },
        "id": "iEzpRaqGylWs",
        "outputId": "a555f49d-5775-41e8-9553-37039f7c33b3"
      },
      "execution_count": 11,
      "outputs": [
        {
          "output_type": "stream",
          "name": "stdout",
          "text": [
            "\u001b[42m  \u001b[42m  \u001b[42m  \u001b[42m  \u001b[42m  \u001b[42m  \u001b[42m  \u001b[42m  \u001b[42m  \u001b[42m  \u001b[42m  \u001b[42m  \u001b[42m  \u001b[42m  \u001b[42m  \u001b[42m  \u001b[42m  \n",
            "\u001b[42m  \u001b[43m  \u001b[43m  \u001b[43m  \u001b[43m  \u001b[43m  \u001b[43m  \u001b[43m  \u001b[43m  \u001b[43m  \u001b[43m  \u001b[42m  \u001b[42m  \u001b[42m  \u001b[0m  \u001b[0m  \u001b[42m  \n",
            "\u001b[42m  \u001b[43m  \u001b[42m  \u001b[42m  \u001b[42m  \u001b[42m  \u001b[42m  \u001b[42m  \u001b[42m  \u001b[42m  \u001b[43m  \u001b[42m  \u001b[0m  \u001b[42m  \u001b[0m  \u001b[42m  \u001b[42m  \n",
            "\u001b[42m  \u001b[43m  \u001b[42m  \u001b[42m  \u001b[0m  \u001b[42m  \u001b[0m  \u001b[0m  \u001b[42m  \u001b[42m  \u001b[43m  \u001b[42m  \u001b[0m  \u001b[42m  \u001b[0m  \u001b[0m  \u001b[42m  \n",
            "\u001b[42m  \u001b[43m  \u001b[42m  \u001b[42m  \u001b[0m  \u001b[42m  \u001b[0m  \u001b[42m  \u001b[42m  \u001b[42m  \u001b[0m  \u001b[42m  \u001b[0m  \u001b[0m  \u001b[0m  \u001b[0m  \u001b[42m  \n",
            "\u001b[42m  \u001b[43m  \u001b[43m  \u001b[42m  \u001b[0m  \u001b[0m  \u001b[0m  \u001b[42m  \u001b[42m  \u001b[42m  \u001b[0m  \u001b[0m  \u001b[0m  \u001b[0m  \u001b[0m  \u001b[0m  \u001b[42m  \n",
            "\u001b[42m  \u001b[43m  \u001b[42m  \u001b[42m  \u001b[0m  \u001b[42m  \u001b[0m  \u001b[0m  \u001b[0m  \u001b[0m  \u001b[0m  \u001b[42m  \u001b[0m  \u001b[0m  \u001b[0m  \u001b[0m  \u001b[42m  \n",
            "\u001b[42m  \u001b[43m  \u001b[43m  \u001b[0m  \u001b[0m  \u001b[42m  \u001b[0m  \u001b[0m  \u001b[0m  \u001b[0m  \u001b[0m  \u001b[42m  \u001b[42m  \u001b[42m  \u001b[42m  \u001b[0m  \u001b[42m  \n",
            "\u001b[42m  \u001b[43m  \u001b[42m  \u001b[42m  \u001b[0m  \u001b[42m  \u001b[0m  \u001b[0m  \u001b[0m  \u001b[0m  \u001b[0m  \u001b[0m  \u001b[0m  \u001b[0m  \u001b[0m  \u001b[0m  \u001b[42m  \n",
            "\u001b[42m  \u001b[43m  \u001b[0m  \u001b[0m  \u001b[0m  \u001b[0m  \u001b[0m  \u001b[0m  \u001b[0m  \u001b[0m  \u001b[0m  \u001b[42m  \u001b[42m  \u001b[0m  \u001b[42m  \u001b[0m  \u001b[42m  \n",
            "\u001b[42m  \u001b[43m  \u001b[42m  \u001b[42m  \u001b[42m  \u001b[0m  \u001b[42m  \u001b[42m  \u001b[0m  \u001b[0m  \u001b[0m  \u001b[0m  \u001b[0m  \u001b[0m  \u001b[0m  \u001b[0m  \u001b[42m  \n",
            "\u001b[42m  \u001b[43m  \u001b[42m  \u001b[42m  \u001b[42m  \u001b[0m  \u001b[42m  \u001b[42m  \u001b[0m  \u001b[42m  \u001b[0m  \u001b[0m  \u001b[0m  \u001b[0m  \u001b[0m  \u001b[0m  \u001b[42m  \n",
            "\u001b[42m  \u001b[43m  \u001b[42m  \u001b[0m  \u001b[0m  \u001b[0m  \u001b[0m  \u001b[0m  \u001b[0m  \u001b[42m  \u001b[42m  \u001b[42m  \u001b[0m  \u001b[42m  \u001b[0m  \u001b[0m  \u001b[42m  \n",
            "\u001b[42m  \u001b[43m  \u001b[42m  \u001b[0m  \u001b[42m  \u001b[42m  \u001b[0m  \u001b[0m  \u001b[42m  \u001b[42m  \u001b[0m  \u001b[42m  \u001b[0m  \u001b[42m  \u001b[42m  \u001b[0m  \u001b[42m  \n",
            "\u001b[42m  \u001b[43m  \u001b[0m  \u001b[0m  \u001b[0m  \u001b[0m  \u001b[0m  \u001b[0m  \u001b[0m  \u001b[42m  \u001b[0m  \u001b[0m  \u001b[0m  \u001b[42m  \u001b[0m  \u001b[0m  \u001b[42m  \n",
            "\u001b[42m  \u001b[43m  \u001b[42m  \u001b[42m  \u001b[42m  \u001b[42m  \u001b[42m  \u001b[42m  \u001b[0m  \u001b[42m  \u001b[0m  \u001b[0m  \u001b[0m  \u001b[0m  \u001b[0m  \u001b[0m  \u001b[42m  \n",
            "\u001b[42m  \u001b[45m  \u001b[0m  \u001b[0m  \u001b[0m  \u001b[0m  \u001b[0m  \u001b[0m  \u001b[0m  \u001b[42m  \u001b[0m  \u001b[0m  \u001b[0m  \u001b[0m  \u001b[0m  \u001b[0m  \u001b[42m  \n",
            "\u001b[42m  \u001b[42m  \u001b[42m  \u001b[42m  \u001b[42m  \u001b[42m  \u001b[42m  \u001b[42m  \u001b[42m  \u001b[42m  \u001b[42m  \u001b[42m  \u001b[42m  \u001b[42m  \u001b[42m  \u001b[42m  \u001b[42m  \n"
          ]
        }
      ]
    },
    {
      "cell_type": "code",
      "source": [
        "chunk_size = 10\n",
        "y_points = np.array([])\n",
        "for chunk in range(num_of_episodes // chunk_size):\n",
        "    avg = np.sum(agent_rewards[chunk * chunk_size: chunk * chunk_size + chunk_size]) / chunk_size\n",
        "    y_points = np.append(y_points, avg)\n",
        "x_points = np.arange(0, num_of_episodes // chunk_size)\n",
        "plt.plot(x_points, y_points)\n",
        "# plt.savefig(f'{project_dir}/results108.png')\n",
        "plt.show()"
      ],
      "metadata": {
        "colab": {
          "base_uri": "https://localhost:8080/",
          "height": 430
        },
        "id": "9xziM7RHwCIJ",
        "outputId": "b14025fa-668d-4cc3-dd61-4e660d8b0adc"
      },
      "execution_count": 12,
      "outputs": [
        {
          "output_type": "display_data",
          "data": {
            "text/plain": [
              "<Figure size 640x480 with 1 Axes>"
            ],
            "image/png": "[encoded data removed]"
          },
          "metadata": {}
        }
      ]
    },
    {
      "cell_type": "code",
      "source": [
        "\n"
      ],
      "metadata": {
        "id": "uAMtd31VGhgh"
      },
      "execution_count": 12,
      "outputs": []
    },
    {
      "cell_type": "code",
      "source": [],
      "metadata": {
        "id": "0nMlWIOmhXt8"
      },
      "execution_count": 12,
      "outputs": []
    }
  ]
}